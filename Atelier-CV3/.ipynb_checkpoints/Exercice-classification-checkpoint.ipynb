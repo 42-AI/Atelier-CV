{
 "cells": [
  {
   "cell_type": "markdown",
   "metadata": {},
   "source": [
    "<p>Liens pour google colab</p>"
   ]
  },
  {
   "cell_type": "markdown",
   "metadata": {},
   "source": [
    "<a>http://benchmark.ini.rub.de/?section=gtsrb&subsection=dataset#Downloads</a><br>\n",
    "<a>https://medium.com/deep-learning-turkey/google-colab-free-gpu-tutorial-e113627b9f5d<a><br>\n",
    "<a>https://www.kdnuggets.com/2018/02/google-colab-free-gpu-tutorial-tensorflow-keras-pytorch.html<a><br>\n",
    "<a>https://www.kdnuggets.com/2018/02/essential-google-colaboratory-tips-tricks.html<a><br>\n",
    "    "
   ]
  },
  {
   "cell_type": "markdown",
   "metadata": {},
   "source": [
    "<p>Objectif avoir au moins 95% d'accuracy sur le test set</p>\n",
    "<p>50 000+ de 40 classes</p> "
   ]
  },
  {
   "cell_type": "markdown",
   "metadata": {},
   "source": [
    "Kaggle\n",
    "- https://www.kaggle.com/c/human-protein-atlas-image-classification/data\n",
    "- https://www.kaggle.com/c/histopathologic-cancer-detection"
   ]
  },
  {
   "cell_type": "markdown",
   "metadata": {},
   "source": [
    "<p>pour la classification multilabel</p>"
   ]
  },
  {
   "cell_type": "markdown",
   "metadata": {},
   "source": [
    "- https://www.kaggle.com/c/imaterialist-challenge-fashion-2018\n",
    "<a>https://www.kaggle.com/c/planet-understanding-the-amazon-from-space"
   ]
  },
  {
   "cell_type": "markdown",
   "metadata": {},
   "source": [
    "Classification fleurs\n",
    "- http://www.robots.ox.ac.uk/~vgg/data/flowers/102/index.html\n",
    "- http://www.robots.ox.ac.uk/~vgg/data/flowers/102/102flowers.tgz\n",
    "- http://www.robots.ox.ac.uk/~vgg/data/flowers/102/imagelabels.mat"
   ]
  },
  {
   "cell_type": "code",
   "execution_count": null,
   "metadata": {},
   "outputs": [],
   "source": []
  },
  {
   "cell_type": "code",
   "execution_count": null,
   "metadata": {},
   "outputs": [],
   "source": []
  }
 ],
 "metadata": {
  "kernelspec": {
   "display_name": "Python 3",
   "language": "python",
   "name": "python3"
  },
  "language_info": {
   "codemirror_mode": {
    "name": "ipython",
    "version": 3
   },
   "file_extension": ".py",
   "mimetype": "text/x-python",
   "name": "python",
   "nbconvert_exporter": "python",
   "pygments_lexer": "ipython3",
   "version": "3.6.6"
  }
 },
 "nbformat": 4,
 "nbformat_minor": 2
}
