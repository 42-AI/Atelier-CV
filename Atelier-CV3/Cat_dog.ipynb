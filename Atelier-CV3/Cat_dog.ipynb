{
 "cells": [
  {
   "cell_type": "code",
   "execution_count": null,
   "metadata": {
    "colab": {
     "base_uri": "https://localhost:8080/",
     "height": 1448
    },
    "colab_type": "code",
    "id": "nSt6JrTcT6cC",
    "outputId": "5f71d648-44a1-4b1a-d692-f9520d4daba1"
   },
   "outputs": [],
   "source": [
    "!pip install python-resize-image\n",
    "!pip install kaggle-cli"
   ]
  },
  {
   "cell_type": "code",
   "execution_count": null,
   "metadata": {
    "colab": {
     "base_uri": "https://localhost:8080/",
     "height": 428
    },
    "colab_type": "code",
    "id": "YsQEKEm6ZHHC",
    "outputId": "3bc53cb1-4f78-461c-b2b0-360c3ace1a45"
   },
   "outputs": [],
   "source": [
    "!pip install --no-cache-dir -I pillow\n",
    "!pip install Pillow==4.0.0\n",
    "!pip install PIL\n",
    "!pip install image"
   ]
  },
  {
   "cell_type": "markdown",
   "metadata": {
    "colab_type": "text",
    "id": "iNKRRr8XfLr_"
   },
   "source": [
    "https://forums.fast.ai/t/attributeerror-module-pil-image-has-no-attribute-register-extensions/10689/5"
   ]
  },
  {
   "cell_type": "code",
   "execution_count": null,
   "metadata": {
    "colab": {},
    "colab_type": "code",
    "id": "3urhmjAsT4wo"
   },
   "outputs": [],
   "source": [
    "import os\n",
    "import re\n",
    "import urllib\n",
    "import urllib.request\n",
    "import urllib.parse\n",
    "from PIL import Image\n",
    "from resizeimage import resizeimage"
   ]
  },
  {
   "cell_type": "code",
   "execution_count": null,
   "metadata": {
    "colab": {},
    "colab_type": "code",
    "id": "IK1_jK3T0GyC"
   },
   "outputs": [],
   "source": [
    "# !pip install Pillow\n",
    "import PIL\n",
    "from PIL import Image"
   ]
  },
  {
   "cell_type": "code",
   "execution_count": null,
   "metadata": {
    "colab": {
     "base_uri": "https://localhost:8080/",
     "height": 275
    },
    "colab_type": "code",
    "id": "3yuVPBmy2a_T",
    "outputId": "47c11fd8-a566-4fa2-c5f6-1d3be0354f9f"
   },
   "outputs": [],
   "source": [
    "!kg download -u login -p mdp -c dogs-vs-cats"
   ]
  },
  {
   "cell_type": "code",
   "execution_count": null,
   "metadata": {
    "colab": {
     "base_uri": "https://localhost:8080/",
     "height": 68
    },
    "colab_type": "code",
    "id": "wx4JqvGm27Pl",
    "outputId": "944043c8-1209-4c32-e437-e31db193a0cc"
   },
   "outputs": [],
   "source": [
    "!mkdir dogsCats;cd dogCats;ls"
   ]
  },
  {
   "cell_type": "code",
   "execution_count": null,
   "metadata": {
    "colab": {},
    "colab_type": "code",
    "id": "gGgi7pKJ4HRC"
   },
   "outputs": [],
   "source": [
    "!mv test1.zip train.zip dogsCats/"
   ]
  },
  {
   "cell_type": "code",
   "execution_count": null,
   "metadata": {
    "colab": {
     "base_uri": "https://localhost:8080/",
     "height": 51
    },
    "colab_type": "code",
    "id": "5FQM-JBD4k9X",
    "outputId": "9be84d6b-ad19-4fdd-d30a-f8d5792d6354"
   },
   "outputs": [],
   "source": [
    "!cd dogsCats; unzip train.zip"
   ]
  },
  {
   "cell_type": "code",
   "execution_count": null,
   "metadata": {
    "colab": {
     "base_uri": "https://localhost:8080/",
     "height": 34
    },
    "colab_type": "code",
    "id": "E-UPL8Ono7Yb",
    "outputId": "1ff660d7-588f-4855-90e6-69f40dc91ae0"
   },
   "outputs": [],
   "source": [
    "!cd dogsCats;rm -rf test1.zip train.zip;ls "
   ]
  },
  {
   "cell_type": "code",
   "execution_count": null,
   "metadata": {
    "colab": {},
    "colab_type": "code",
    "id": "U8bac00c8aYz"
   },
   "outputs": [],
   "source": [
    "def resize_img(imgpath, target_size = 150):\n",
    "    try:\n",
    "#         print (imgpath)\n",
    "        img = Image.open(imgpath)\n",
    "#         print (img.size)\n",
    "        new_img = img.resize((target_size,target_size))\n",
    "        new_img.save(imgpath, \"JPEG\", optimize=True)\n",
    "    except:\n",
    "#         print (imgpath)\n",
    "        error.append(imgpath)"
   ]
  },
  {
   "cell_type": "code",
   "execution_count": null,
   "metadata": {
    "colab": {},
    "colab_type": "code",
    "id": "uAS3iVNkQE4J"
   },
   "outputs": [],
   "source": [
    "# error = []\n",
    "# imgLst = os.listdir('dogsCats/train')\n",
    "# print(imgLst[0])\n",
    "# resize_img('dogsCats/train/' + imgLst[0])\n",
    "# print (error)"
   ]
  },
  {
   "cell_type": "code",
   "execution_count": null,
   "metadata": {
    "colab": {
     "base_uri": "https://localhost:8080/",
     "height": 34
    },
    "colab_type": "code",
    "id": "SwNZf-G_nqCe",
    "outputId": "0f292be9-fae0-4a65-bb2b-f21a29f7ca50"
   },
   "outputs": [],
   "source": [
    "!ls dogsCats"
   ]
  },
  {
   "cell_type": "code",
   "execution_count": null,
   "metadata": {
    "colab": {},
    "colab_type": "code",
    "id": "jy7lgIc68p2r"
   },
   "outputs": [],
   "source": [
    "error = []\n",
    "imgs = []\n",
    "path = 'dogsCats/'\n",
    "for path, subdirs, files in os.walk(path):\n",
    "    for name in files:\n",
    "        imgs.append(os.path.join(path, name))"
   ]
  },
  {
   "cell_type": "code",
   "execution_count": null,
   "metadata": {
    "colab": {
     "base_uri": "https://localhost:8080/",
     "height": 34
    },
    "colab_type": "code",
    "id": "K1yvMV1mP3RJ",
    "outputId": "a55cca21-a511-4376-f66a-108a50dc6d53"
   },
   "outputs": [],
   "source": [
    "print (imgs[1])"
   ]
  },
  {
   "cell_type": "code",
   "execution_count": null,
   "metadata": {
    "colab": {
     "base_uri": "https://localhost:8080/",
     "height": 442
    },
    "colab_type": "code",
    "id": "GxPCt2mL8xVd",
    "outputId": "69325dda-c67d-40bd-ba09-2f94d4df1cd9"
   },
   "outputs": [],
   "source": [
    "for ind, img in enumerate(imgs):\n",
    "    resize_img(img)\n",
    "    if ind % 1000 == 0:\n",
    "      print (ind)"
   ]
  },
  {
   "cell_type": "code",
   "execution_count": null,
   "metadata": {
    "colab": {
     "base_uri": "https://localhost:8080/",
     "height": 34
    },
    "colab_type": "code",
    "id": "vp-6p7OR9HfX",
    "outputId": "6f049b6a-fab9-4328-fec5-f58bace8e794"
   },
   "outputs": [],
   "source": [
    "!find dogsCats/train -type f | wc -l"
   ]
  },
  {
   "cell_type": "code",
   "execution_count": null,
   "metadata": {
    "colab": {
     "base_uri": "https://localhost:8080/",
     "height": 34
    },
    "colab_type": "code",
    "id": "2lP7jVPKJAaM",
    "outputId": "05c4a4fc-a8ad-4900-9110-1449f8624cc2"
   },
   "outputs": [],
   "source": [
    "print (len(error))"
   ]
  },
  {
   "cell_type": "code",
   "execution_count": null,
   "metadata": {
    "colab": {
     "base_uri": "https://localhost:8080/",
     "height": 34
    },
    "colab_type": "code",
    "id": "5YTksYSqJEhL",
    "outputId": "e57d7d05-cf4a-4ed8-e44d-a2ce3b16c6d0"
   },
   "outputs": [],
   "source": [
    "!ls dogsCats"
   ]
  },
  {
   "cell_type": "code",
   "execution_count": null,
   "metadata": {
    "colab": {},
    "colab_type": "code",
    "id": "wYzedejBJZTW"
   },
   "outputs": [],
   "source": [
    "for err in error:\n",
    "  os.remove(err)"
   ]
  },
  {
   "cell_type": "code",
   "execution_count": null,
   "metadata": {
    "colab": {},
    "colab_type": "code",
    "id": "HZX3YvwQqGN1"
   },
   "outputs": [],
   "source": [
    "from skimage.io import imread, imsave\n",
    "from skimage.transform import resize"
   ]
  },
  {
   "cell_type": "code",
   "execution_count": null,
   "metadata": {
    "colab": {},
    "colab_type": "code",
    "id": "mo_ed1OoqJ8m"
   },
   "outputs": [],
   "source": [
    "error = []\n",
    "for img in imgs:\n",
    "    image = imread(img)\n",
    "    res = resize(image, (224, 224), preserve_range=True, mode='reflect')\n",
    "    if res.shape != (224, 224, 3):\n",
    "        print (img)\n",
    "        print (res.shape)\n",
    "        error.append(img)"
   ]
  },
  {
   "cell_type": "code",
   "execution_count": null,
   "metadata": {
    "colab": {},
    "colab_type": "code",
    "id": "KUg5UvNOqQj2"
   },
   "outputs": [],
   "source": [
    "print (len(error), error)\n",
    "for err in error:\n",
    "  os.remove(err)"
   ]
  },
  {
   "cell_type": "code",
   "execution_count": null,
   "metadata": {
    "colab": {
     "base_uri": "https://localhost:8080/",
     "height": 34
    },
    "colab_type": "code",
    "id": "MRSRSe98qTZv",
    "outputId": "93e1df0d-fae2-435f-bdba-13163a9176f9"
   },
   "outputs": [],
   "source": [
    "import tensorflow as tf\n",
    "import keras as K"
   ]
  },
  {
   "cell_type": "code",
   "execution_count": null,
   "metadata": {
    "colab": {
     "base_uri": "https://localhost:8080/",
     "height": 34
    },
    "colab_type": "code",
    "id": "-UsYaQCRwLgI",
    "outputId": "32b307cf-02a6-4165-af05-2ae170024765"
   },
   "outputs": [],
   "source": [
    "print (tf.__version__, K.__version__)"
   ]
  },
  {
   "cell_type": "code",
   "execution_count": null,
   "metadata": {
    "colab": {
     "base_uri": "https://localhost:8080/",
     "height": 105
    },
    "colab_type": "code",
    "id": "2AJQkf7bwM0O",
    "outputId": "0891cb12-3b2e-4ad7-930c-35ce3ba6d90c"
   },
   "outputs": [],
   "source": [
    "from keras.models import Sequential\n",
    "from keras.layers.normalization import BatchNormalization\n",
    "from keras.layers.convolutional import Conv2D\n",
    "from keras.layers.convolutional import MaxPooling2D\n",
    "from keras.layers.core import Activation\n",
    "from keras.layers.core import Flatten\n",
    "from keras.layers.core import Dropout\n",
    "from keras.layers.core import Dense\n",
    "from keras import backend as K\n",
    "import cv2 as cv\n",
    "%pylab inline\n",
    "\n",
    "import matplotlib.pyplot as plt\n",
    "import os\n",
    "import matplotlib.image as mpimg\n",
    "\n",
    "import tensorflow as tf\n",
    "import pandas as pd\n",
    "import numpy as np\n",
    "\n",
    "import seaborn as sns\n",
    "%matplotlib inline\n",
    "\n",
    "from keras.models import Model\n",
    "from sklearn.preprocessing import LabelEncoder\n",
    "from sklearn.model_selection import train_test_split\n",
    "from sklearn.metrics import confusion_matrix\n",
    "import itertools\n",
    "\n",
    "import keras\n",
    "from keras.models import Sequential\n",
    "from keras.layers import *\n",
    "from keras.optimizers import RMSprop\n",
    "from keras.preprocessing.image import ImageDataGenerator\n",
    "from keras.callbacks import *\n",
    "from keras.layers.advanced_activations import LeakyReLU\n",
    "# import keras_utils"
   ]
  },
  {
   "cell_type": "code",
   "execution_count": null,
   "metadata": {
    "colab": {},
    "colab_type": "code",
    "id": "n84diDiowO5f"
   },
   "outputs": [],
   "source": [
    "from sklearn.preprocessing import MultiLabelBinarizer\n",
    "from sklearn.model_selection import train_test_split"
   ]
  },
  {
   "cell_type": "code",
   "execution_count": null,
   "metadata": {
    "colab": {},
    "colab_type": "code",
    "id": "it5U02ZQwQx3"
   },
   "outputs": [],
   "source": [
    "BATCH_SIZE = 64\n",
    "INIT_LR = 5e-3 "
   ]
  },
  {
   "cell_type": "code",
   "execution_count": null,
   "metadata": {
    "colab": {
     "base_uri": "https://localhost:8080/",
     "height": 34
    },
    "colab_type": "code",
    "id": "3hEmIcN_wSfX",
    "outputId": "bde0d4ba-726b-442d-e102-e56577e0ff65"
   },
   "outputs": [],
   "source": [
    "!cd dogsCats/ ; ls"
   ]
  },
  {
   "cell_type": "code",
   "execution_count": null,
   "metadata": {
    "colab": {},
    "colab_type": "code",
    "id": "DLrF2TDMwUB3"
   },
   "outputs": [],
   "source": [
    "path = './dogsCats/train'\n",
    "imgs = []"
   ]
  },
  {
   "cell_type": "code",
   "execution_count": null,
   "metadata": {
    "colab": {},
    "colab_type": "code",
    "id": "uIfpGCmqwixR"
   },
   "outputs": [],
   "source": [
    "for path, subdirs, files in os.walk(path):\n",
    "    for name in files:\n",
    "        imgs.append(os.path.join(path, name))"
   ]
  },
  {
   "cell_type": "code",
   "execution_count": null,
   "metadata": {
    "colab": {
     "base_uri": "https://localhost:8080/",
     "height": 54
    },
    "colab_type": "code",
    "id": "cO6v16GVwmGC",
    "outputId": "ddf0a946-2058-48df-e1cd-df210450e453"
   },
   "outputs": [],
   "source": [
    "print (imgs[:5])"
   ]
  },
  {
   "cell_type": "code",
   "execution_count": null,
   "metadata": {
    "colab": {},
    "colab_type": "code",
    "id": "Y2TohXG1xV8T"
   },
   "outputs": [],
   "source": [
    "lbls = []\n",
    "for img in imgs:\n",
    "    if 'cat' in img:\n",
    "        lbls.append(0)\n",
    "    else:\n",
    "        lbls.append(1)"
   ]
  },
  {
   "cell_type": "code",
   "execution_count": null,
   "metadata": {
    "colab": {
     "base_uri": "https://localhost:8080/",
     "height": 34
    },
    "colab_type": "code",
    "id": "gwZFriHsxjQ2",
    "outputId": "d20f2ba4-8f3b-4b42-b0b8-4c2d8563dab5"
   },
   "outputs": [],
   "source": [
    "print (len(imgs), len(lbls))"
   ]
  },
  {
   "cell_type": "code",
   "execution_count": null,
   "metadata": {
    "colab": {},
    "colab_type": "code",
    "id": "LzDCxAFyxld9"
   },
   "outputs": [],
   "source": [
    "lbls = keras.utils.to_categorical(lbls, num_classes=2)"
   ]
  },
  {
   "cell_type": "code",
   "execution_count": null,
   "metadata": {
    "colab": {},
    "colab_type": "code",
    "id": "tMOGYfVNxoYV"
   },
   "outputs": [],
   "source": [
    "(X_train, X_test, y_train, y_test) = train_test_split(imgs,\n",
    "                                                      lbls,\n",
    "                                                      test_size=0.2,\n",
    "                                                      random_state=42)"
   ]
  },
  {
   "cell_type": "code",
   "execution_count": null,
   "metadata": {
    "colab": {
     "base_uri": "https://localhost:8080/",
     "height": 102
    },
    "colab_type": "code",
    "id": "SFraQ4hvxqF9",
    "outputId": "2cf9666e-61de-428e-9210-822752a2d50d"
   },
   "outputs": [],
   "source": [
    "for ind in range(0,5):\n",
    "    print (X_train[ind], y_train[ind])"
   ]
  },
  {
   "cell_type": "code",
   "execution_count": null,
   "metadata": {
    "colab": {},
    "colab_type": "code",
    "id": "88yY1QcGxr6U"
   },
   "outputs": [],
   "source": [
    "from imgaug import augmenters as iaa\n",
    "\n",
    "seq = iaa.Sequential([\n",
    "    iaa.Crop(px=(0, 16)), # crop images from each side by 0 to 16px (randomly chosen)\n",
    "    iaa.Fliplr(0.5), # horizontally flip 50% of the images\n",
    "    iaa.GaussianBlur(sigma=(0, 3.0)) # blur images with a sigma of 0 to 3.0\n",
    "])"
   ]
  },
  {
   "cell_type": "code",
   "execution_count": null,
   "metadata": {
    "colab": {},
    "colab_type": "code",
    "id": "Dt28OPvXxv3n"
   },
   "outputs": [],
   "source": [
    "import numpy as np\n",
    "from skimage.io import imread, imsave\n",
    "from skimage.transform import resize\n",
    "\n",
    "class DataGenerator(keras.utils.Sequence):\n",
    "    'Generates data for Keras'\n",
    "    def __init__(self, list_IDs, labels, batch_size=32, dim=(150,150), n_channels=1,\n",
    "                 n_classes=10, shuffle=True):\n",
    "        'Initialization'\n",
    "        self.dim = dim\n",
    "        self.batch_size = batch_size\n",
    "        self.labels = labels\n",
    "        self.list_IDs = list_IDs\n",
    "        self.n_channels = n_channels\n",
    "        self.n_classes = n_classes\n",
    "        self.shuffle = shuffle\n",
    "        self.on_epoch_end()\n",
    "\n",
    "    def __len__(self):\n",
    "        'Denotes the number of batches per epoch'\n",
    "        return int(np.floor(len(self.list_IDs) / self.batch_size))\n",
    "\n",
    "    def __getitem__(self, index):\n",
    "        'Generate one batch of data'\n",
    "        # Generate indexes of the batch\n",
    "        indexes = self.indexes[index*self.batch_size:(index+1)*self.batch_size]\n",
    "        \n",
    "        # Generate data\n",
    "        X, y = self.__data_generation(indexes)\n",
    "\n",
    "        return X, y\n",
    "\n",
    "    def on_epoch_end(self):\n",
    "        'Updates indexes after each epoch'\n",
    "        self.indexes = np.arange(len(self.list_IDs))\n",
    "        if self.shuffle == True:\n",
    "            np.random.shuffle(self.indexes)\n",
    "            \n",
    "    def read_and_resize(self, filepath):\n",
    "        img = imread(filepath)\n",
    "#         img = preprocess_input(img)\n",
    "        res = resize(img, self.dim, preserve_range=True, mode='reflect')\n",
    "        return np.expand_dims(res, 0)\n",
    "            \n",
    "    def __data_generation(self, indexes):\n",
    "        'Generates data containing batch_size samples' \n",
    "        X = [self.read_and_resize(self.list_IDs[i])\n",
    "             for i in indexes]\n",
    "        y = self.labels[indexes]\n",
    "        X = np.vstack(X)\n",
    "        return seq.augment_images(X), y"
   ]
  },
  {
   "cell_type": "code",
   "execution_count": null,
   "metadata": {
    "colab": {},
    "colab_type": "code",
    "id": "WFDE2I9Kxy8u"
   },
   "outputs": [],
   "source": [
    "from keras.applications.resnet50 import ResNet50\n",
    "from keras.preprocessing import image\n",
    "from keras.applications.resnet50 import preprocess_input, decode_predictions\n",
    "import numpy as np\n",
    "\n",
    "def resnet():\n",
    "    base_model = ResNet50(weights='imagenet', include_top=False)\n",
    "\n",
    "    x = base_model.output\n",
    "    x = GlobalAveragePooling2D()(x)\n",
    "    # let's add a fully-connected layer\n",
    "    x = Dense(1024, activation='relu')(x)\n",
    "    x = Dropout(0.3)(x)\n",
    "    x = Dense(512, activation='relu')(x)\n",
    "    x = Dropout(0.3)(x)\n",
    "    pred = Dense(2, activation='softmax')(x)\n",
    "    model = Model(inputs=base_model.input, outputs=pred)\n",
    "    return model"
   ]
  },
  {
   "cell_type": "code",
   "execution_count": null,
   "metadata": {
    "colab": {
     "base_uri": "https://localhost:8080/",
     "height": 105
    },
    "colab_type": "code",
    "id": "_28tQJwBx1Kw",
    "outputId": "7a093fe1-dff5-4549-8550-7ce0530b766a"
   },
   "outputs": [],
   "source": [
    "# from keras.metrics import top_k_categorical_accuracy\n",
    "# with tf.device(\"/cpu:0\"):\n",
    "#     model = Model(inputs=base_model.input, outputs=pred)\n",
    "K.clear_session()\n",
    "model = resnet()"
   ]
  },
  {
   "cell_type": "code",
   "execution_count": null,
   "metadata": {
    "colab": {},
    "colab_type": "code",
    "id": "NHSiWuxNx283"
   },
   "outputs": [],
   "source": [
    "model.compile(optimizer = 'Adam',\n",
    "              loss = 'binary_crossentropy',\n",
    "              metrics = ['accuracy'])"
   ]
  },
  {
   "cell_type": "code",
   "execution_count": null,
   "metadata": {
    "colab": {},
    "colab_type": "code",
    "id": "tceSInL9x4kY"
   },
   "outputs": [],
   "source": [
    "\n",
    "\n",
    "tensorboard = keras.callbacks.TensorBoard(log_dir='./logs/resnet2', \n",
    "                                          histogram_freq=0, \n",
    "                                          batch_size=BATCH_SIZE, \n",
    "                                          write_graph=True, \n",
    "                                          write_grads=True, \n",
    "                                          write_images=True, \n",
    "                                          embeddings_freq=0,\n",
    "                                          embeddings_layer_names=None, \n",
    "                                          embeddings_metadata=None) "
   ]
  },
  {
   "cell_type": "code",
   "execution_count": null,
   "metadata": {
    "colab": {},
    "colab_type": "code",
    "id": "udXNl8RVx7Nv"
   },
   "outputs": [],
   "source": [
    "# train_gen = DataGenerator(X_train, y_train, batch_size = 32)\n",
    "# val_gen = DataGenerator(X_test, y_test, batch_size = 32)\n",
    "checkpoint = ModelCheckpoint('checkpoint.h5', monitor='val_loss', verbose=0, save_best_only=False, save_weights_only=False, mode='auto', period=1)\n",
    "reduce_lr = ReduceLROnPlateau(monitor='val_loss', factor=0.2,\n",
    "                              patience=2, min_lr=0.001)\n",
    "earlyStopping = EarlyStopping(monitor='val_acc', min_delta=0.0001, patience=5, \\\n",
    "                          verbose=1, mode='auto')"
   ]
  },
  {
   "cell_type": "code",
   "execution_count": null,
   "metadata": {
    "colab": {},
    "colab_type": "code",
    "id": "2Q7tMGiMx9dP"
   },
   "outputs": [],
   "source": [
    "params = {\n",
    "            'dim': (224,224),\n",
    "            'batch_size': 32,\n",
    "            'n_classes': 2,\n",
    "            'n_channels': 3,\n",
    "            'shuffle': True\n",
    "         }\n",
    "\n",
    "train_gen = DataGenerator(X_train, y_train, **params)\n",
    "val_gen = DataGenerator(X_test, y_test, **params)"
   ]
  },
  {
   "cell_type": "code",
   "execution_count": null,
   "metadata": {
    "colab": {},
    "colab_type": "code",
    "id": "c3mOmwPMyBH3"
   },
   "outputs": [],
   "source": [
    "def lr_scheduler(epoch):\n",
    "    return INIT_LR * 0.9 ** epoch\n",
    "\n",
    "# callback pour afficher la learning rate\n",
    "class LrHistory(keras.callbacks.Callback):\n",
    "    def on_epoch_begin(self, epoch, logs={}):\n",
    "        print(\"Learning rate:\", K.get_value(model.optimizer.lr))"
   ]
  },
  {
   "cell_type": "code",
   "execution_count": null,
   "metadata": {
    "colab": {},
    "colab_type": "code",
    "id": "wHqE9wkayBng"
   },
   "outputs": [],
   "source": [
    "for layer in model.layers:\n",
    "    layer.trainable = True\n",
    "    if isinstance(layer, keras.layers.BatchNormalization):\n",
    "        layer.momentum = 0.8\n",
    "    \n",
    "for layer in model.layers[:-20]:\n",
    "    layer.trainable = False"
   ]
  },
  {
   "cell_type": "code",
   "execution_count": null,
   "metadata": {
    "colab": {
     "base_uri": "https://localhost:8080/",
     "height": 105
    },
    "colab_type": "code",
    "id": "iXhCh5ZXyDNa",
    "outputId": "24a1e1a7-18e1-422d-f146-c1d1f709e347"
   },
   "outputs": [],
   "source": [
    "history = model.fit_generator(generator = train_gen,\n",
    "                          validation_data = val_gen,\n",
    "                          use_multiprocessing = True,\n",
    "#                           callbacks=[tensorboard, keras.callbacks.LearningRateScheduler(lr_scheduler),\n",
    "#                                      LrHistory(), earlyStopping],\n",
    "                          callbacks=[tensorboard],\n",
    "                          workers=3,\n",
    "                          epochs = 1)"
   ]
  },
  {
   "cell_type": "code",
   "execution_count": null,
   "metadata": {
    "colab": {
     "base_uri": "https://localhost:8080/",
     "height": 571
    },
    "colab_type": "code",
    "id": "1311XM_4yF-4",
    "outputId": "ed328f5e-ef02-440b-f2ae-a1450de11c83"
   },
   "outputs": [],
   "source": [
    "# historique pour l'accuracy\n",
    "plt.plot(history.history['acc'])\n",
    "plt.plot(history.history['val_acc'])\n",
    "plt.title('model accuracy')\n",
    "plt.ylabel('accuracy')\n",
    "plt.xlabel('epoch')\n",
    "plt.legend(['train', 'test'], loc='upper left')\n",
    "plt.show()\n",
    "# historique pour la loss function\n",
    "plt.plot(history.history['loss'])\n",
    "plt.plot(history.history['val_loss'])\n",
    "plt.title('model loss')\n",
    "plt.ylabel('loss')\n",
    "plt.xlabel('epoch')\n",
    "plt.legend(['train', 'test'], loc='upper left')\n",
    "plt.show()"
   ]
  },
  {
   "cell_type": "markdown",
   "metadata": {
    "colab_type": "text",
    "id": "kUZDKyYHyItT"
   },
   "source": [
    "https://blog.keras.io/building-powerful-image-classification-models-using-very-little-data.html"
   ]
  },
  {
   "cell_type": "markdown",
   "metadata": {
    "colab": {},
    "colab_type": "code",
    "id": "BoGpLQoj22NP"
   },
   "source": [
    "<b>Objectif:</b>\n",
    "- atteindre les 90% sans overfitting"
   ]
  },
  {
   "cell_type": "code",
   "execution_count": null,
   "metadata": {},
   "outputs": [],
   "source": []
  }
 ],
 "metadata": {
  "accelerator": "GPU",
  "colab": {
   "name": "Cat_dog.ipynb",
   "provenance": [],
   "version": "0.3.2"
  },
  "kernelspec": {
   "display_name": "Python 3",
   "language": "python",
   "name": "python3"
  },
  "language_info": {
   "codemirror_mode": {
    "name": "ipython",
    "version": 3
   },
   "file_extension": ".py",
   "mimetype": "text/x-python",
   "name": "python",
   "nbconvert_exporter": "python",
   "pygments_lexer": "ipython3",
   "version": "3.6.8"
  }
 },
 "nbformat": 4,
 "nbformat_minor": 1
}
