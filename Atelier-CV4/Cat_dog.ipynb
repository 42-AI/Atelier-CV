{
 "cells": [
  {
   "cell_type": "code",
   "execution_count": null,
   "metadata": {
    "colab": {
     "base_uri": "https://localhost:8080/",
     "height": 1448
    },
    "colab_type": "code",
    "id": "nSt6JrTcT6cC",
    "outputId": "5f71d648-44a1-4b1a-d692-f9520d4daba1"
   },
   "outputs": [],
   "source": [
    "!pip install python-resize-image\n",
    "!pip install kaggle-cli"
   ]
  },
  {
   "cell_type": "code",
   "execution_count": null,
   "metadata": {
    "colab": {
     "base_uri": "https://localhost:8080/",
     "height": 428
    },
    "colab_type": "code",
    "id": "YsQEKEm6ZHHC",
    "outputId": "3bc53cb1-4f78-461c-b2b0-360c3ace1a45"
   },
   "outputs": [],
   "source": [
    "# !pip install --no-cache-dir -I pillow\n",
    "# !pip install Pillow==4.0.0\n",
    "# !pip install PIL\n",
    "# !pip install image"
   ]
  },
  {
   "cell_type": "markdown",
   "metadata": {
    "colab_type": "text",
    "id": "iNKRRr8XfLr_"
   },
   "source": [
    "https://forums.fast.ai/t/attributeerror-module-pil-image-has-no-attribute-register-extensions/10689/5"
   ]
  },
  {
   "cell_type": "code",
   "execution_count": null,
   "metadata": {
    "colab": {},
    "colab_type": "code",
    "id": "3urhmjAsT4wo"
   },
   "outputs": [],
   "source": [
    "import os\n",
    "import re\n",
    "import urllib\n",
    "import urllib.request\n",
    "import urllib.parse\n",
    "from PIL import Image\n",
    "from resizeimage import resizeimage"
   ]
  },
  {
   "cell_type": "code",
   "execution_count": null,
   "metadata": {
    "colab": {},
    "colab_type": "code",
    "id": "IK1_jK3T0GyC"
   },
   "outputs": [],
   "source": [
    "# !pip install Pillow\n",
    "import PIL\n",
    "from PIL import Image"
   ]
  },
  {
   "cell_type": "code",
   "execution_count": null,
   "metadata": {
    "colab": {
     "base_uri": "https://localhost:8080/",
     "height": 68
    },
    "colab_type": "code",
    "id": "wx4JqvGm27Pl",
    "outputId": "944043c8-1209-4c32-e437-e31db193a0cc"
   },
   "outputs": [],
   "source": [
    "if not os.path.exists(\"dogsCats/train\"):\n",
    "    !kg download -u yourkagglelogin -p yourkagglepassword -c dogs-vs-cats\n",
    "    !mkdir dogsCats;cd dogsCats;ls\n",
    "    !mkdir dogsCats/test1\n",
    "    !rm -rf test1.zip\n",
    "    !mv train.zip dogsCats/\n",
    "    !cd dogsCats; unzip train.zip\n",
    "    !cd dogsCats;rm -rf test1.zip train.zip;ls"
   ]
  },
  {
   "cell_type": "code",
   "execution_count": null,
   "metadata": {},
   "outputs": [],
   "source": [
    "if not os.path.exists(\"dogsCats/train/Dog\") and not os.path.exists(\"dogsCats/train/Cat\"):\n",
    "    trainImgs = os.listdir('dogsCats/train/')\n",
    "    !mkdir dogsCats/train/Dog dogsCats/train/Cat\n",
    "    for img in trainImgs:\n",
    "        if 'cat' in img:\n",
    "            os.rename('dogsCats/train/' + img, 'dogsCats/train/Cat/' + img)\n",
    "        elif 'dog' in img:\n",
    "            os.rename('dogsCats/train/' + img, 'dogsCats/train/Dog/' + img)    "
   ]
  },
  {
   "cell_type": "code",
   "execution_count": null,
   "metadata": {},
   "outputs": [],
   "source": [
    "# nbTrain = len(os.listdir('\"dogsCats/train/Dog\"')) + len(os.listdir('\"dogsCats/train/Cat\"'))\n",
    "dogImgs = os.listdir('dogsCats/train/Dog')\n",
    "catImgs = os.listdir('dogsCats/train/Cat')\n",
    "if not os.path.exists(\"dogsCats/test1/Dog\") and not os.path.exists(\"dogsCats/test1/Cat\"):\n",
    "    !mkdir dogsCats/test1/Dog dogsCats/test1/Cat\n",
    "    nbDog = len(dogImgs)\n",
    "    nbCat = len(catImgs)\n",
    "    lim = nbDog * 0.2\n",
    "    for ind, (dog, cat) in enumerate(zip(dogImgs, catImgs)):\n",
    "        if ind > lim:\n",
    "            print (ind)\n",
    "            break;\n",
    "        os.rename('dogsCats/train/Dog/' + dog, 'dogsCats/test1/Dog/' + dog)\n",
    "        os.rename('dogsCats/train/Cat/' + cat, 'dogsCats/test1/Cat/' + cat)"
   ]
  },
  {
   "cell_type": "code",
   "execution_count": null,
   "metadata": {},
   "outputs": [],
   "source": [
    "dogImgs = os.listdir('dogsCats/train/Dog')\n",
    "catImgs = os.listdir('dogsCats/train/Cat')\n",
    "nb_train_samples = len(dogImgs) + len(catImgs)\n",
    "dogImgs = os.listdir('dogsCats/test1/Dog')\n",
    "catImgs = os.listdir('dogsCats/test1/Cat')\n",
    "nb_validation_samples = len(dogImgs) + len(catImgs)"
   ]
  },
  {
   "cell_type": "code",
   "execution_count": null,
   "metadata": {
    "colab": {},
    "colab_type": "code",
    "id": "gGgi7pKJ4HRC"
   },
   "outputs": [],
   "source": [
    "from skimage.io import imread, imsave\n",
    "from skimage.transform import resize"
   ]
  },
  {
   "cell_type": "code",
   "execution_count": null,
   "metadata": {
    "colab": {
     "base_uri": "https://localhost:8080/",
     "height": 34
    },
    "colab_type": "code",
    "id": "MRSRSe98qTZv",
    "outputId": "93e1df0d-fae2-435f-bdba-13163a9176f9"
   },
   "outputs": [],
   "source": [
    "import tensorflow as tf\n",
    "import keras as K"
   ]
  },
  {
   "cell_type": "code",
   "execution_count": null,
   "metadata": {
    "colab": {
     "base_uri": "https://localhost:8080/",
     "height": 34
    },
    "colab_type": "code",
    "id": "-UsYaQCRwLgI",
    "outputId": "32b307cf-02a6-4165-af05-2ae170024765"
   },
   "outputs": [],
   "source": [
    "print (tf.__version__, K.__version__)"
   ]
  },
  {
   "cell_type": "code",
   "execution_count": null,
   "metadata": {
    "colab": {
     "base_uri": "https://localhost:8080/",
     "height": 105
    },
    "colab_type": "code",
    "id": "2AJQkf7bwM0O",
    "outputId": "0891cb12-3b2e-4ad7-930c-35ce3ba6d90c"
   },
   "outputs": [],
   "source": [
    "from keras.models import Sequential\n",
    "from keras.layers.normalization import BatchNormalization\n",
    "from keras.layers.convolutional import Conv2D\n",
    "from keras.layers.convolutional import MaxPooling2D\n",
    "from keras.layers.core import Activation\n",
    "from keras.layers.core import Flatten\n",
    "from keras.layers.core import Dropout\n",
    "from keras.layers.core import Dense\n",
    "from keras import backend as K\n",
    "import cv2 as cv\n",
    "%pylab inline\n",
    "\n",
    "import matplotlib.pyplot as plt\n",
    "import os\n",
    "import matplotlib.image as mpimg\n",
    "\n",
    "import tensorflow as tf\n",
    "import pandas as pd\n",
    "import numpy as np\n",
    "\n",
    "import seaborn as sns\n",
    "%matplotlib inline\n",
    "\n",
    "from keras.models import Model\n",
    "from sklearn.preprocessing import LabelEncoder\n",
    "from sklearn.model_selection import train_test_split\n",
    "from sklearn.metrics import confusion_matrix\n",
    "import itertools\n",
    "\n",
    "import keras\n",
    "from keras.models import Sequential\n",
    "from keras.layers import *\n",
    "from keras.optimizers import RMSprop\n",
    "from keras.preprocessing.image import ImageDataGenerator\n",
    "from keras.callbacks import *\n",
    "from keras.layers.advanced_activations import LeakyReLU\n",
    "# import keras_utils"
   ]
  },
  {
   "cell_type": "code",
   "execution_count": null,
   "metadata": {
    "colab": {},
    "colab_type": "code",
    "id": "n84diDiowO5f"
   },
   "outputs": [],
   "source": [
    "from sklearn.preprocessing import MultiLabelBinarizer\n",
    "from sklearn.model_selection import train_test_split"
   ]
  },
  {
   "cell_type": "code",
   "execution_count": null,
   "metadata": {},
   "outputs": [],
   "source": [
    "from tensorflow.python.client import device_lib\n",
    "\n",
    "def get_available_gpus():\n",
    "    local_device = device_lib.list_local_devices()\n",
    "#     print (local_device)\n",
    "    return [x.name for x in local_device if x.device_type == 'GPU']\n",
    "\n",
    "get_available_gpus()"
   ]
  },
  {
   "cell_type": "code",
   "execution_count": null,
   "metadata": {
    "colab": {},
    "colab_type": "code",
    "id": "it5U02ZQwQx3"
   },
   "outputs": [],
   "source": [
    "BATCH_SIZE = 64\n",
    "INIT_LR = 5e-3 "
   ]
  },
  {
   "cell_type": "code",
   "execution_count": null,
   "metadata": {
    "colab": {
     "base_uri": "https://localhost:8080/",
     "height": 34
    },
    "colab_type": "code",
    "id": "3hEmIcN_wSfX",
    "outputId": "bde0d4ba-726b-442d-e102-e56577e0ff65"
   },
   "outputs": [],
   "source": [
    "!cd dogsCats/ ; ls ; find train -type f | wc -l ; find test -type f | wc -l"
   ]
  },
  {
   "cell_type": "code",
   "execution_count": null,
   "metadata": {
    "colab": {},
    "colab_type": "code",
    "id": "DLrF2TDMwUB3"
   },
   "outputs": [],
   "source": [
    "path = './dogsCats/train'\n",
    "imgs = []"
   ]
  },
  {
   "cell_type": "code",
   "execution_count": null,
   "metadata": {
    "colab": {},
    "colab_type": "code",
    "id": "uIfpGCmqwixR"
   },
   "outputs": [],
   "source": [
    "for path, subdirs, files in os.walk(path):\n",
    "    for name in files:\n",
    "        imgs.append(os.path.join(path, name))"
   ]
  },
  {
   "cell_type": "code",
   "execution_count": null,
   "metadata": {
    "colab": {
     "base_uri": "https://localhost:8080/",
     "height": 54
    },
    "colab_type": "code",
    "id": "cO6v16GVwmGC",
    "outputId": "ddf0a946-2058-48df-e1cd-df210450e453"
   },
   "outputs": [],
   "source": [
    "print (imgs[:5])"
   ]
  },
  {
   "cell_type": "code",
   "execution_count": null,
   "metadata": {
    "colab": {},
    "colab_type": "code",
    "id": "Y2TohXG1xV8T"
   },
   "outputs": [],
   "source": [
    "lbls = []\n",
    "for img in imgs:\n",
    "    if 'cat' in img:\n",
    "        lbls.append(0)\n",
    "    else:\n",
    "        lbls.append(1)"
   ]
  },
  {
   "cell_type": "code",
   "execution_count": null,
   "metadata": {
    "colab": {
     "base_uri": "https://localhost:8080/",
     "height": 34
    },
    "colab_type": "code",
    "id": "gwZFriHsxjQ2",
    "outputId": "d20f2ba4-8f3b-4b42-b0b8-4c2d8563dab5"
   },
   "outputs": [],
   "source": [
    "print (len(imgs), len(lbls))"
   ]
  },
  {
   "cell_type": "code",
   "execution_count": null,
   "metadata": {},
   "outputs": [],
   "source": [
    "i = 0\n",
    "count = 0\n",
    "nbImgs = len(imgs)"
   ]
  },
  {
   "cell_type": "code",
   "execution_count": null,
   "metadata": {},
   "outputs": [],
   "source": [
    "def reduce_dataset(cut, nbImgs, lbls, imgs):\n",
    "    dog = cat = int((cut/2)*nbImgs)\n",
    "    print (dog, cat)\n",
    "    if int((cut*nbImgs)) != len(imgs):\n",
    "        for ind, (img, lbl) in enumerate(zip(imgs, lbls)):\n",
    "            if lbl == 0 and cat != 0:\n",
    "                del lbls[ind]\n",
    "                del imgs[ind]\n",
    "                cat -= 1\n",
    "            if lbl == 1 and dog != 0:\n",
    "                del lbls[ind]\n",
    "                del imgs[ind]\n",
    "    nbImgs = len(imgs)\n",
    "    print (nbImgs)"
   ]
  },
  {
   "cell_type": "code",
   "execution_count": null,
   "metadata": {},
   "outputs": [],
   "source": [
    "imgs = []\n",
    "path = 'dogsCats/train/'\n",
    "for path, subdirs, files in os.walk(path):\n",
    "    for name in files:\n",
    "        imgs.append(os.path.join(path, name))"
   ]
  },
  {
   "cell_type": "code",
   "execution_count": null,
   "metadata": {},
   "outputs": [],
   "source": [
    "cols = 8\n",
    "rows = 3\n",
    "#pour allouer un cadre\n",
    "fig = plt.figure(figsize=(2 * cols - 1, 2.5 * rows - 1))\n",
    "for i in range(cols):\n",
    "    for j in range(rows):\n",
    "        random_index = np.random.randint(0, len(imgs))\n",
    "        #on place chacune des images sur le cadre\n",
    "        ax = fig.add_subplot(rows, cols, i * rows + j + 1)\n",
    "        ax.grid('off')\n",
    "        ax.axis('off')\n",
    "        ax.imshow(Image.open(imgs[random_index]))\n",
    "        ax.set_title('dog' if 'train/Dog' in imgs[random_index] else 'cat')\n",
    "plt.show()"
   ]
  },
  {
   "cell_type": "code",
   "execution_count": null,
   "metadata": {},
   "outputs": [],
   "source": [
    "def plot_history(history):\n",
    "    # historique pour l'accuracy\n",
    "    plt.plot(history.history['acc'])\n",
    "    plt.plot(history.history['val_acc'])\n",
    "    plt.title('model accuracy')\n",
    "    plt.ylabel('accuracy')\n",
    "    plt.xlabel('epoch')\n",
    "    plt.legend(['train', 'test'], loc='upper left')\n",
    "    plt.show()\n",
    "    # historique pour la loss function\n",
    "    plt.plot(history.history['loss'])\n",
    "    plt.plot(history.history['val_loss'])\n",
    "    plt.title('model loss')\n",
    "    plt.ylabel('loss')\n",
    "    plt.xlabel('epoch')\n",
    "    plt.legend(['train', 'test'], loc='upper left')\n",
    "    plt.show()"
   ]
  },
  {
   "cell_type": "code",
   "execution_count": null,
   "metadata": {},
   "outputs": [],
   "source": [
    "from keras.applications.resnet50 import ResNet50\n",
    "from keras.preprocessing import image\n",
    "from keras.applications.resnet50 import preprocess_input, decode_predictions\n",
    "import numpy as np\n",
    "\n",
    "def resnet():\n",
    "    base_model = ResNet50(weights='imagenet', include_top=False)\n",
    "\n",
    "    x = base_model.output\n",
    "    x = GlobalAveragePooling2D()(x)\n",
    "    # let's add a fully-connected layer\n",
    "    x = Dense(1024, activation='relu')(x)\n",
    "    x = Dropout(0.3)(x)\n",
    "    x = Dense(512, activation='relu')(x)\n",
    "    x = Dropout(0.3)(x)\n",
    "    pred = Dense(1, activation='sigmoid')(x)\n",
    "    model = Model(inputs=base_model.input, outputs=pred)\n",
    "    return model"
   ]
  },
  {
   "cell_type": "code",
   "execution_count": null,
   "metadata": {},
   "outputs": [],
   "source": [
    "from keras.applications.vgg16 import VGG16\n",
    "from keras.preprocessing import image\n",
    "from keras.applications.vgg16 import preprocess_input\n",
    "import numpy as np\n",
    "\n",
    "def vgg():\n",
    "    base_model = VGG16(weights='imagenet', include_top=False)\n",
    "\n",
    "    x = base_model.output\n",
    "    x = GlobalAveragePooling2D()(x)\n",
    "    # let's add a fully-connected layer\n",
    "    x = Dense(1024, activation='relu')(x)\n",
    "    x = Dropout(0.3)(x)\n",
    "    x = Dense(512, activation='relu')(x)\n",
    "    x = Dropout(0.3)(x)\n",
    "    pred = Dense(1, activation='sigmoid')(x)\n",
    "    model = Model(inputs=base_model.input, outputs=pred)\n",
    "    return model"
   ]
  },
  {
   "cell_type": "code",
   "execution_count": null,
   "metadata": {},
   "outputs": [],
   "source": [
    "def create_model():\n",
    "    model = Sequential()\n",
    "    model.add(Conv2D(32, (3, 3), input_shape=(150, 150, 3)))\n",
    "    model.add(Activation('relu'))\n",
    "    model.add(MaxPooling2D(pool_size=(2, 2)))\n",
    "\n",
    "    model.add(Conv2D(32, (3, 3)))\n",
    "    model.add(Activation('relu'))\n",
    "    model.add(MaxPooling2D(pool_size=(2, 2)))\n",
    "\n",
    "    model.add(Conv2D(64, (3, 3)))\n",
    "    model.add(Activation('relu'))\n",
    "    model.add(MaxPooling2D(pool_size=(2, 2)))\n",
    "    model.add(Flatten())  # this converts our 3D feature maps to 1D feature vectors\n",
    "    model.add(Dense(64))\n",
    "    model.add(Activation('relu'))\n",
    "    model.add(Dropout(0.5))\n",
    "    model.add(Dense(1))\n",
    "    model.add(Activation('sigmoid'))\n",
    "    return model"
   ]
  },
  {
   "cell_type": "code",
   "execution_count": null,
   "metadata": {
    "colab": {
     "base_uri": "https://localhost:8080/",
     "height": 105
    },
    "colab_type": "code",
    "id": "_28tQJwBx1Kw",
    "outputId": "7a093fe1-dff5-4549-8550-7ce0530b766a"
   },
   "outputs": [],
   "source": [
    "K.clear_session()\n",
    "# model = resnet()\n",
    "model = vgg()\n",
    "# model = create_model()"
   ]
  },
  {
   "cell_type": "code",
   "execution_count": null,
   "metadata": {
    "colab": {},
    "colab_type": "code",
    "id": "NHSiWuxNx283"
   },
   "outputs": [],
   "source": [
    "model.compile(optimizer = 'Adam',\n",
    "              loss = 'binary_crossentropy',\n",
    "              metrics = ['accuracy'])"
   ]
  },
  {
   "cell_type": "code",
   "execution_count": null,
   "metadata": {},
   "outputs": [],
   "source": [
    "batch_size = 32\n",
    "train_data_dir = 'dogsCats/train/'\n",
    "validation_data_dir = 'dogsCats/test1/'\n",
    "img_height, img_width = 150, 150\n",
    "epochs = 10\n",
    "# prepare data augmentation configuration\n",
    "train_datagen = ImageDataGenerator(\n",
    "        rescale=1./255,\n",
    "        shear_range=0.2,\n",
    "        zoom_range=0.2,\n",
    "        horizontal_flip=True)\n",
    "\n",
    "test_datagen = ImageDataGenerator(rescale=1./255)\n",
    "\n",
    "train_generator = train_datagen.flow_from_directory(\n",
    "        train_data_dir,\n",
    "        target_size=(img_height, img_width),\n",
    "        batch_size=batch_size,\n",
    "        class_mode='binary')\n",
    "\n",
    "validation_generator = test_datagen.flow_from_directory(\n",
    "        validation_data_dir,\n",
    "        target_size=(img_height, img_width),\n",
    "        batch_size=batch_size,\n",
    "        class_mode='binary')"
   ]
  },
  {
   "cell_type": "code",
   "execution_count": null,
   "metadata": {},
   "outputs": [],
   "source": [
    "history = model.fit_generator(\n",
    "        train_generator,\n",
    "        steps_per_epoch=nb_train_samples // batch_size,\n",
    "        epochs=epochs,\n",
    "        validation_data=validation_generator,\n",
    "        validation_steps=nb_validation_samples // batch_size)"
   ]
  },
  {
   "cell_type": "code",
   "execution_count": null,
   "metadata": {},
   "outputs": [],
   "source": [
    "plot_history(history)"
   ]
  },
  {
   "cell_type": "markdown",
   "metadata": {
    "colab_type": "text",
    "id": "kUZDKyYHyItT"
   },
   "source": [
    "https://blog.keras.io/building-powerful-image-classification-models-using-very-little-data.html"
   ]
  },
  {
   "cell_type": "markdown",
   "metadata": {
    "colab": {},
    "colab_type": "code",
    "id": "BoGpLQoj22NP"
   },
   "source": [
    "<b>Objectif:</b>\n",
    "- atteindre les 90% sans overfitting"
   ]
  },
  {
   "cell_type": "code",
   "execution_count": null,
   "metadata": {},
   "outputs": [],
   "source": []
  }
 ],
 "metadata": {
  "accelerator": "GPU",
  "colab": {
   "name": "Cat_dog.ipynb",
   "provenance": [],
   "version": "0.3.2"
  },
  "kernelspec": {
   "display_name": "Python 3",
   "language": "python",
   "name": "python3"
  },
  "language_info": {
   "codemirror_mode": {
    "name": "ipython",
    "version": 3
   },
   "file_extension": ".py",
   "mimetype": "text/x-python",
   "name": "python",
   "nbconvert_exporter": "python",
   "pygments_lexer": "ipython3",
   "version": "3.6.8"
  }
 },
 "nbformat": 4,
 "nbformat_minor": 1
}
